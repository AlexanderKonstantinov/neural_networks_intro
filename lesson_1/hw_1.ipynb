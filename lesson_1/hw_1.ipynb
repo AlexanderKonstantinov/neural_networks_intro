{
 "cells": [
  {
   "cell_type": "markdown",
   "metadata": {},
   "source": [
    "# Урок 1. Основы обучения нейронных сетей"
   ]
  },
  {
   "cell_type": "markdown",
   "metadata": {},
   "source": [
    "### Задание. \n",
    "**Попробуйте видоизменить параметры разобранной на уроке двухслойной нейронной сети таким образом, чтобы улучшить ее точность. Проведите анализ — что приводит к ухудшению точности нейронной сети? Что приводит к увеличению ее точности?**"
   ]
  },
  {
   "cell_type": "code",
   "execution_count": 1,
   "metadata": {},
   "outputs": [],
   "source": [
    "import time\n",
    "import numpy as np\n",
    "import pandas as pd\n",
    "import seaborn as sns\n",
    "import matplotlib.pyplot as plt\n",
    "from sklearn.model_selection import train_test_split\n",
    "\n",
    "import warnings\n",
    "warnings.filterwarnings('ignore')"
   ]
  },
  {
   "cell_type": "markdown",
   "metadata": {},
   "source": [
    "**Шаг 1. Определение функций, которые понадобяться для обучения  \n",
    "преобразование массива в бинарный вид результатов**"
   ]
  },
  {
   "cell_type": "code",
   "execution_count": 2,
   "metadata": {},
   "outputs": [],
   "source": [
    "def to_one_hot(Y):\n",
    "    n_col = np.amax(Y) + 1\n",
    "    binarized = np.zeros((len(Y), n_col))\n",
    "    for i in range(len(Y)):\n",
    "        binarized[i, Y[i]] = 1.\n",
    "    return binarized\n",
    "\n",
    "# преобразование массива в необходимый вид\n",
    "def from_one_hot(Y):\n",
    "    arr = np.zeros((len(Y), 1))\n",
    "\n",
    "    for i in range(len(Y)):\n",
    "        l = layer2[i]\n",
    "        for j in range(len(l)):\n",
    "            if(l[j] == 1):\n",
    "                arr[i] = j+1\n",
    "    return arr\n",
    "\n",
    "# сигмоида и ее производная\n",
    "def sigmoid(x):\n",
    "    return 1/(1+np.exp(-x))\n",
    "\n",
    "def sigmoid_deriv(x):\n",
    "    return sigmoid(x)*(1 - sigmoid(x))\n",
    "\n",
    "# нормализация массива\n",
    "def normalize(X, axis=-1, order=2):\n",
    "    l2 = np.atleast_1d(np.linalg.norm(X, order, axis))\n",
    "    l2[l2 == 0] = 1\n",
    "    return X / np.expand_dims(l2, axis)"
   ]
  },
  {
   "cell_type": "markdown",
   "metadata": {},
   "source": [
    "**Шаг 2. Подготовка тренировочных данных  \n",
    "получения данных из csv файла. укажите здесь путь к файлу Iris.csv**"
   ]
  },
  {
   "cell_type": "code",
   "execution_count": 3,
   "metadata": {},
   "outputs": [],
   "source": [
    "iris_data = pd.read_csv(\"Iris.csv\")\n",
    "\n",
    "# репрезентация данных в виде графиков\n",
    "# g = sns.pairplot(iris_data.drop(\"Id\", axis=1), hue=\"Species\")\n",
    "\n",
    "# замена текстовых значений на цифровые\n",
    "iris_data['Species'].replace(['Iris-setosa', 'Iris-virginica', 'Iris-versicolor'], [0, 1, 2], inplace=True)\n",
    "\n",
    "# формирование входных данных\n",
    "columns = ['SepalLengthCm', 'SepalWidthCm', 'PetalLengthCm', 'PetalWidthCm']\n",
    "x = pd.DataFrame(iris_data, columns=columns)\n",
    "x = normalize(x.values)\n",
    "\n",
    "# формирование выходных данных(результатов)\n",
    "columns = ['Species']\n",
    "y = pd.DataFrame(iris_data, columns=columns)\n",
    "y = y.values\n",
    "y = y.flatten()\n",
    "y = to_one_hot(y)\n",
    "\n",
    "# # Разделение данных на тренировочные и тестовые\n",
    "X_train, X_test, y_train, y_test = train_test_split(x, y, test_size=0.33)"
   ]
  },
  {
   "cell_type": "markdown",
   "metadata": {},
   "source": [
    "**Шаг 3. Обученние нейронной сети  \n",
    "присваевание случайных весов**"
   ]
  },
  {
   "cell_type": "code",
   "execution_count": 4,
   "metadata": {},
   "outputs": [],
   "source": [
    "def train_network(neuron_numb, step, iterations):\n",
    "    \n",
    "    start = time.time()    \n",
    "            \n",
    "    w0 = 2*np.random.random((4, neuron_numb)) - 1 \n",
    "    w1 = 2*np.random.random((neuron_numb, 3)) - 1\n",
    "\n",
    "    for i in range(iterations):\n",
    "\n",
    "        # прямое распространение(feed forward)\n",
    "        layer0 = X_train\n",
    "        layer1 = sigmoid(np.dot(layer0, w0))\n",
    "        layer2 = sigmoid(np.dot(layer1, w1))\n",
    "\n",
    "        # обратное распространение(back propagation) с использованием градиентного спуска\n",
    "        layer2_error = y_train - layer2\n",
    "        layer2_delta = layer2_error * sigmoid_deriv(layer2)\n",
    "\n",
    "        layer1_error = layer2_delta.dot(w1.T)\n",
    "        layer1_delta = layer1_error * sigmoid_deriv(layer1)\n",
    "\n",
    "        w1 += layer1.T.dot(layer2_delta) * step\n",
    "        w0 += layer0.T.dot(layer1_delta) * step\n",
    "\n",
    "        error = np.mean(np.abs(layer2_error))\n",
    "        accuracy = (1 - error) * 100\n",
    "        \n",
    "    end = time.time()\n",
    "    \n",
    "    return end - start, accuracy"
   ]
  },
  {
   "cell_type": "code",
   "execution_count": 5,
   "metadata": {},
   "outputs": [],
   "source": [
    "# hyperparameters\n",
    "steps = [0.8, 0.6, 0.4, 0.2, 0.1, 0.05, 0.01]\n",
    "iterations = [100, 500, 1000, 1500, 2000, 3000, 5000]\n",
    "neurons = [2, 3, 4, 5, 6, 7, 8, 9, 10]\n",
    "\n",
    "default_step, default_iterations, default_neurons = 0.1, 1000, 5\n",
    "\n",
    "stages_stats = pd.DataFrame(columns=['stage', 'neuron number','learning rate', 'iteration number', 'train time', 'accuracy'])\n",
    "\n",
    "stats = stages_stats.drop('stage', axis=1)"
   ]
  },
  {
   "cell_type": "markdown",
   "metadata": {},
   "source": [
    "**Процесс обучения по стадиям**"
   ]
  },
  {
   "cell_type": "code",
   "execution_count": 6,
   "metadata": {},
   "outputs": [
    {
     "name": "stdout",
     "output_type": "stream",
     "text": [
      "Wall time: 4.02 s\n"
     ]
    }
   ],
   "source": [
    "%%time\n",
    "\n",
    "count = 0\n",
    "\n",
    "# 0 - увеличение количества нейронов в скрытом слое\n",
    "stage = 0\n",
    "for n in neurons: \n",
    "    \n",
    "    train_time, accuracy = train_network(n, default_step, default_iterations)\n",
    "    \n",
    "    stages_stats.loc[count] = stage, n, default_step, default_iterations, train_time, accuracy\n",
    "        \n",
    "    count += 1\n",
    "    \n",
    "# 1 - увеличение скорости обучения\n",
    "stage = 1\n",
    "for s in steps: \n",
    "    \n",
    "    train_time, accuracy = train_network(default_neurons, s, default_iterations)\n",
    "    \n",
    "    stages_stats.loc[count] = stage, default_neurons, s, default_iterations, train_time, accuracy\n",
    "        \n",
    "    count += 1\n",
    "    \n",
    "# 2 - увеличение количества итераций\n",
    "stage = 2\n",
    "for i in iterations: \n",
    "    \n",
    "    train_time, accuracy = train_network(default_neurons, default_step, i)\n",
    "    \n",
    "    stages_stats.loc[count] = stage, default_neurons, default_step, i, train_time, accuracy\n",
    "        \n",
    "    count += 1"
   ]
  },
  {
   "cell_type": "markdown",
   "metadata": {},
   "source": [
    "**Процесс обучения с перебором всех гиперпараметров**"
   ]
  },
  {
   "cell_type": "code",
   "execution_count": 7,
   "metadata": {},
   "outputs": [
    {
     "name": "stdout",
     "output_type": "stream",
     "text": [
      "Wall time: 1min 59s\n"
     ]
    }
   ],
   "source": [
    "%%time\n",
    "\n",
    "count = 0\n",
    "\n",
    "for n in neurons: \n",
    "    for s in steps: \n",
    "        for i in iterations:               \n",
    "            \n",
    "            train_time, accuracy = train_network(n, s, i)            \n",
    "\n",
    "            stats.loc[count] = n, s, i, train_time, accuracy\n",
    "\n",
    "            count += 1"
   ]
  },
  {
   "cell_type": "markdown",
   "metadata": {},
   "source": [
    "**Шаг 4. Демонстрация полученных результатов  \n",
    "черчение диаграммы точности в зависимости от обучения**"
   ]
  },
  {
   "cell_type": "code",
   "execution_count": 8,
   "metadata": {},
   "outputs": [],
   "source": [
    "# для более аккуратного отображения\n",
    "for col in stages_stats.columns:            \n",
    "    if col == 'stage':        \n",
    "        stages_stats[col] = stages_stats[col].astype(int)\n",
    "    elif col == 'neuron number' or col == 'iteration number':\n",
    "        stages_stats[col] = stages_stats[col].astype(int)\n",
    "        stats[col] = stats[col].astype(int)"
   ]
  },
  {
   "cell_type": "code",
   "execution_count": 10,
   "metadata": {},
   "outputs": [
    {
     "data": {
      "image/png": "[encoded data removed]",
      "text/plain": [
       "<Figure size 864x864 with 3 Axes>"
      ]
     },
     "metadata": {
      "needs_background": "light"
     },
     "output_type": "display_data"
    }
   ],
   "source": [
    "fig, (stage_0, stage_1, stage_2) = plt.subplots(nrows=3, figsize=(12, 12))\n",
    "# fig.tight_layout(pad=5.0)\n",
    "fig.subplots_adjust(hspace=0.5)\n",
    "\n",
    "stage_0.set_title('Зависимость точности обучения от количества нейронов в скрытом слое')\n",
    "stage_0.set(xlabel='Количество нейронов', ylabel='Точность обучения')\n",
    "stage_0.plot(neurons, stages_stats.loc[stages_stats['stage'] == 0]['accuracy'], 'r')\n",
    "\n",
    "stage_1.set_title('Зависимость точности обучения от скорости обучения')\n",
    "stage_1.set(xlabel='Скорость обучения', ylabel='Точность обучения')\n",
    "stage_1.plot(steps, stages_stats.loc[stages_stats['stage'] == 1]['accuracy'], 'g')\n",
    "\n",
    "stage_2.set_title('Зависимость точности обучения от количества итераций')\n",
    "stage_2.set(xlabel='Количество итераций', ylabel='Точность обучения')\n",
    "stage_2.plot(iterations, stages_stats.loc[stages_stats['stage'] == 2]['accuracy'], 'b')\n",
    "\n",
    "plt.show()"
   ]
  },
  {
   "cell_type": "code",
   "execution_count": 9,
   "metadata": {},
   "outputs": [
    {
     "data": {
      "text/html": [
       "<div>\n",
       "<style scoped>\n",
       "    .dataframe tbody tr th:only-of-type {\n",
       "        vertical-align: middle;\n",
       "    }\n",
       "\n",
       "    .dataframe tbody tr th {\n",
       "        vertical-align: top;\n",
       "    }\n",
       "\n",
       "    .dataframe thead th {\n",
       "        text-align: right;\n",
       "    }\n",
       "</style>\n",
       "<table border=\"1\" class=\"dataframe\">\n",
       "  <thead>\n",
       "    <tr style=\"text-align: right;\">\n",
       "      <th></th>\n",
       "      <th>neuron number</th>\n",
       "      <th>learning rate</th>\n",
       "      <th>iteration number</th>\n",
       "      <th>train time</th>\n",
       "      <th>accuracy</th>\n",
       "    </tr>\n",
       "  </thead>\n",
       "  <tbody>\n",
       "    <tr>\n",
       "      <th>209</th>\n",
       "      <td>6</td>\n",
       "      <td>0.6</td>\n",
       "      <td>5000</td>\n",
       "      <td>0.769</td>\n",
       "      <td>99.904</td>\n",
       "    </tr>\n",
       "    <tr>\n",
       "      <th>256</th>\n",
       "      <td>7</td>\n",
       "      <td>0.6</td>\n",
       "      <td>2000</td>\n",
       "      <td>0.282</td>\n",
       "      <td>99.823</td>\n",
       "    </tr>\n",
       "    <tr>\n",
       "      <th>152</th>\n",
       "      <td>5</td>\n",
       "      <td>0.8</td>\n",
       "      <td>3000</td>\n",
       "      <td>0.410</td>\n",
       "      <td>99.782</td>\n",
       "    </tr>\n",
       "    <tr>\n",
       "      <th>118</th>\n",
       "      <td>4</td>\n",
       "      <td>0.4</td>\n",
       "      <td>5000</td>\n",
       "      <td>0.617</td>\n",
       "      <td>99.661</td>\n",
       "    </tr>\n",
       "    <tr>\n",
       "      <th>347</th>\n",
       "      <td>9</td>\n",
       "      <td>0.8</td>\n",
       "      <td>2000</td>\n",
       "      <td>0.294</td>\n",
       "      <td>99.556</td>\n",
       "    </tr>\n",
       "    <tr>\n",
       "      <th>125</th>\n",
       "      <td>4</td>\n",
       "      <td>0.2</td>\n",
       "      <td>5000</td>\n",
       "      <td>0.616</td>\n",
       "      <td>99.544</td>\n",
       "    </tr>\n",
       "    <tr>\n",
       "      <th>116</th>\n",
       "      <td>4</td>\n",
       "      <td>0.4</td>\n",
       "      <td>2000</td>\n",
       "      <td>0.247</td>\n",
       "      <td>99.531</td>\n",
       "    </tr>\n",
       "    <tr>\n",
       "      <th>76</th>\n",
       "      <td>3</td>\n",
       "      <td>0.2</td>\n",
       "      <td>5000</td>\n",
       "      <td>0.602</td>\n",
       "      <td>99.503</td>\n",
       "    </tr>\n",
       "    <tr>\n",
       "      <th>67</th>\n",
       "      <td>3</td>\n",
       "      <td>0.4</td>\n",
       "      <td>2000</td>\n",
       "      <td>0.239</td>\n",
       "      <td>99.477</td>\n",
       "    </tr>\n",
       "    <tr>\n",
       "      <th>353</th>\n",
       "      <td>9</td>\n",
       "      <td>0.6</td>\n",
       "      <td>1500</td>\n",
       "      <td>0.218</td>\n",
       "      <td>99.471</td>\n",
       "    </tr>\n",
       "  </tbody>\n",
       "</table>\n",
       "</div>"
      ],
      "text/plain": [
       "     neuron number  learning rate  iteration number  train time  accuracy\n",
       "209              6            0.6              5000       0.769    99.904\n",
       "256              7            0.6              2000       0.282    99.823\n",
       "152              5            0.8              3000       0.410    99.782\n",
       "118              4            0.4              5000       0.617    99.661\n",
       "347              9            0.8              2000       0.294    99.556\n",
       "125              4            0.2              5000       0.616    99.544\n",
       "116              4            0.4              2000       0.247    99.531\n",
       "76               3            0.2              5000       0.602    99.503\n",
       "67               3            0.4              2000       0.239    99.477\n",
       "353              9            0.6              1500       0.218    99.471"
      ]
     },
     "execution_count": 9,
     "metadata": {},
     "output_type": "execute_result"
    }
   ],
   "source": [
    "# выведем 10 лучших результатов\n",
    "stats.sort_values(by='accuracy', ascending=False).head(10).round(3)"
   ]
  }
 ],
 "metadata": {
  "kernelspec": {
   "display_name": "Python 3",
   "language": "python",
   "name": "python3"
  },
  "language_info": {
   "codemirror_mode": {
    "name": "ipython",
    "version": 3
   },
   "file_extension": ".py",
   "mimetype": "text/x-python",
   "name": "python",
   "nbconvert_exporter": "python",
   "pygments_lexer": "ipython3",
   "version": "3.7.6"
  }
 },
 "nbformat": 4,
 "nbformat_minor": 4
}
